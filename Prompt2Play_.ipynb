{
  "cells": [
    {
      "cell_type": "markdown",
      "metadata": {
        "id": "view-in-github",
        "colab_type": "text"
      },
      "source": [
        "<a href=\"https://colab.research.google.com/github/athulyas1206/Prompt2Play/blob/main/Prompt2Play_.ipynb\" target=\"_parent\"><img src=\"https://colab.research.google.com/assets/colab-badge.svg\" alt=\"Open In Colab\"/></a>"
      ]
    },
    {
      "cell_type": "markdown",
      "id": "feabc791",
      "metadata": {
        "id": "feabc791"
      },
      "source": [
        "# 🚀 Fine-Tune TinyLlama-1.1B with QLoRA on Support Chat Data"
      ]
    },
    {
      "cell_type": "code",
      "execution_count": null,
      "id": "066442e8",
      "metadata": {
        "id": "066442e8"
      },
      "outputs": [],
      "source": [
        "!pip install -q bitsandbytes accelerate datasets loralib peft transformers trl\n"
      ]
    },
    {
      "cell_type": "code",
      "source": [
        "!pip install -q gradio"
      ],
      "metadata": {
        "id": "bqw7eGyyC-0i"
      },
      "id": "bqw7eGyyC-0i",
      "execution_count": null,
      "outputs": []
    },
    {
      "cell_type": "code",
      "execution_count": 3,
      "id": "d85525b1",
      "metadata": {
        "id": "d85525b1"
      },
      "outputs": [],
      "source": [
        "import torch\n",
        "from datasets import Dataset\n",
        "from transformers import AutoTokenizer, AutoModelForCausalLM, TrainingArguments, Trainer, BitsAndBytesConfig\n",
        "from peft import LoraConfig, get_peft_model, prepare_model_for_kbit_training\n"
      ]
    },
    {
      "cell_type": "code",
      "execution_count": null,
      "id": "4acdc5ae",
      "metadata": {
        "id": "4acdc5ae"
      },
      "outputs": [],
      "source": [
        "model_name = \"TinyLlama/TinyLlama-1.1B-Chat-v1.0\"\n",
        "\n",
        "bnb_config = BitsAndBytesConfig(\n",
        "    load_in_4bit=True,\n",
        "    bnb_4bit_compute_dtype=torch.float16,\n",
        "    bnb_4bit_use_double_quant=True,\n",
        "    bnb_4bit_quant_type=\"nf4\",\n",
        ")\n",
        "\n",
        "model = AutoModelForCausalLM.from_pretrained(\n",
        "    model_name,\n",
        "    quantization_config=bnb_config,\n",
        "    device_map=\"auto\"\n",
        ")\n",
        "\n",
        "tokenizer = AutoTokenizer.from_pretrained(model_name, use_fast=True)\n",
        "tokenizer.pad_token = tokenizer.eos_token\n",
        "model.config.use_cache = False\n"
      ]
    },
    {
      "cell_type": "code",
      "execution_count": 5,
      "id": "e50fe3fc",
      "metadata": {
        "id": "e50fe3fc"
      },
      "outputs": [],
      "source": [
        "model.gradient_checkpointing_enable()\n",
        "model = prepare_model_for_kbit_training(model)\n",
        "\n",
        "lora_config = LoraConfig(\n",
        "    r=8,\n",
        "    lora_alpha=32,\n",
        "    target_modules=[\"q_proj\", \"v_proj\"],\n",
        "    lora_dropout=0.05,\n",
        "    bias=\"none\",\n",
        "    task_type=\"CAUSAL_LM\"\n",
        ")\n",
        "\n",
        "model = get_peft_model(model, lora_config)\n"
      ]
    },
    {
      "cell_type": "code",
      "execution_count": null,
      "id": "5caaba73",
      "metadata": {
        "id": "5caaba73"
      },
      "outputs": [],
      "source": [
        "import pandas as pd\n",
        "df = pd.read_csv(\"/content/DataScience QA.csv\")\n",
        "df.dropna(subset=['Question', 'Answer'], inplace=True)\n",
        "\n",
        "data = [\n",
        "    {\"instruction\": row['Question'], \"input\": \"\", \"output\": row['Answer']}\n",
        "    for _, row in df.iterrows()\n",
        "]\n",
        "\n",
        "dataset = Dataset.from_list(data)\n",
        "\n",
        "def format_instruction(example):\n",
        "    return f\"### Instruction:\\n{example['instruction']}\\n\\n### Response:\\n{example['output']}\"\n",
        "\n",
        "dataset = dataset.map(lambda x: {\"text\": format_instruction(x)})\n"
      ]
    },
    {
      "cell_type": "code",
      "execution_count": null,
      "id": "64991825",
      "metadata": {
        "id": "64991825"
      },
      "outputs": [],
      "source": [
        "def tokenize_function(example):\n",
        "    tokenized = tokenizer(example[\"text\"], truncation=True, padding=\"max_length\", max_length=512)\n",
        "    tokenized[\"labels\"] = tokenized[\"input_ids\"].copy()\n",
        "    return tokenized\n",
        "\n",
        "tokenized_dataset = dataset.map(tokenize_function, batched=True)\n"
      ]
    },
    {
      "cell_type": "code",
      "execution_count": 9,
      "id": "74dbc0a4",
      "metadata": {
        "id": "74dbc0a4"
      },
      "outputs": [],
      "source": [
        "training_args = TrainingArguments(\n",
        "    output_dir=\"./tinyllama-qlora-support-bot\",\n",
        "    per_device_train_batch_size=2,\n",
        "    gradient_accumulation_steps=4,\n",
        "    learning_rate=2e-4,\n",
        "    logging_dir=\"./logs\",\n",
        "    num_train_epochs=3,\n",
        "    logging_steps=10,\n",
        "    save_total_limit=2,\n",
        "    save_strategy=\"epoch\",\n",
        "    bf16=True,\n",
        "    optim=\"paged_adamw_8bit\"\n",
        ")\n"
      ]
    },
    {
      "cell_type": "code",
      "execution_count": null,
      "id": "ac46d165",
      "metadata": {
        "id": "ac46d165"
      },
      "outputs": [],
      "source": [
        "trainer = Trainer(\n",
        "    model=model,\n",
        "    args=training_args,\n",
        "    train_dataset=tokenized_dataset,\n",
        "    tokenizer=tokenizer\n",
        ")\n",
        "\n",
        "trainer.train()\n"
      ]
    },
    {
      "cell_type": "code",
      "execution_count": null,
      "id": "a285233e",
      "metadata": {
        "id": "a285233e"
      },
      "outputs": [],
      "source": [
        "model.save_pretrained(\"tinyllama-qlora-support-bot\")\n",
        "tokenizer.save_pretrained(\"tinyllama-qlora-support-bot\")\n"
      ]
    },
    {
      "cell_type": "code",
      "execution_count": null,
      "id": "564eacba",
      "metadata": {
        "id": "564eacba"
      },
      "outputs": [],
      "source": [
        "from transformers import pipeline\n",
        "\n",
        "pipe = pipeline(\"text-generation\", model=model, tokenizer=tokenizer)\n",
        "\n",
        "instruction = \"symptoms of covid19\"\n",
        "prompt = f\"### Instruction:\\n{instruction}\\n\\n### Response:\\n\"\n",
        "\n",
        "output = pipe(prompt, max_new_tokens=100)\n",
        "print(output[0]['generated_text'])\n"
      ]
    },
    {
      "cell_type": "code",
      "source": [
        "import shutil\n",
        "shutil.make_archive(\"tinyllama-qlora-support-bot\", 'zip', \"tinyllama-qlora-support-bot\")\n"
      ],
      "metadata": {
        "id": "kRWGr14fCamf"
      },
      "id": "kRWGr14fCamf",
      "execution_count": null,
      "outputs": []
    },
    {
      "cell_type": "code",
      "source": [
        "from google.colab import files\n",
        "\n",
        "# Download the zipped model to your local system\n",
        "files.download(\"tinyllama-qlora-support-bot.zip\")"
      ],
      "metadata": {
        "id": "SNWE9TmH4CPl"
      },
      "id": "SNWE9TmH4CPl",
      "execution_count": null,
      "outputs": []
    },
    {
      "cell_type": "code",
      "source": [
        "import gradio as gr\n",
        "from transformers import pipeline, AutoModelForCausalLM, AutoTokenizer, BitsAndBytesConfig\n",
        "import torch\n",
        "\n",
        "# Load model and tokenizer\n",
        "model_name = \"tinyllama-qlora-support-bot\"\n",
        "\n",
        "bnb_config = BitsAndBytesConfig(\n",
        "    load_in_4bit=True,\n",
        "    bnb_4bit_compute_dtype=torch.float16,\n",
        "    bnb_4bit_use_double_quant=True,\n",
        "    bnb_4bit_quant_type=\"nf4\",\n",
        ")\n",
        "\n",
        "model = AutoModelForCausalLM.from_pretrained(model_name, device_map=\"auto\", quantization_config=bnb_config)\n",
        "tokenizer = AutoTokenizer.from_pretrained(model_name, use_fast=True)\n",
        "pipe = pipeline(\"text-generation\", model=model, tokenizer=tokenizer)\n",
        "\n",
        "# Define the response function\n",
        "def get_answer(question):\n",
        "    prompt = f\"### Instruction:\\n{question}\\n\\n### Response:\\n\"\n",
        "    output = pipe(prompt, max_new_tokens=100, do_sample=True, temperature=0.7)[0]['generated_text']\n",
        "    response = output.split(\"### Response:\\n\")[-1].strip()\n",
        "    return response\n",
        "\n",
        "# Gradio interface\n",
        "gr.Interface(\n",
        "    fn=get_answer,\n",
        "    inputs=gr.Textbox(lines=2, placeholder=\"Ask a question...\"),\n",
        "    outputs=\"text\",\n",
        "    title=\"TinyLlama Support Bot\",\n",
        "    description=\"Ask any data science-related question fine-tuned on your custom QA dataset!\"\n",
        ").launch()\n"
      ],
      "metadata": {
        "id": "OWBQNRTTO80U"
      },
      "id": "OWBQNRTTO80U",
      "execution_count": null,
      "outputs": []
    }
  ],
  "metadata": {
    "colab": {
      "provenance": [],
      "gpuType": "T4",
      "include_colab_link": true
    },
    "accelerator": "GPU",
    "language_info": {
      "name": "python"
    },
    "kernelspec": {
      "name": "python3",
      "display_name": "Python 3"
    }
  },
  "nbformat": 4,
  "nbformat_minor": 5
}